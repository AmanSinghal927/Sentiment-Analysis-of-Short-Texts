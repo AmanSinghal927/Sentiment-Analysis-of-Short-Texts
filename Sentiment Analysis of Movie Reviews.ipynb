{
  "nbformat": 4,
  "nbformat_minor": 0,
  "metadata": {
    "colab": {
      "name": "IMDb_word2vec_5000.ipynb",
      "provenance": [],
      "collapsed_sections": [
        "m1dhX78WBT46",
        "vdlfi4DU7jY7",
        "Lbn9R4A1B1dc",
        "r9tpXew6HY9X",
        "hb73VEjm9dJh",
        "zTJ2vHT6lzll",
        "gGWLDjdtCBop",
        "nwIEFZJ2z4YT"
      ]
    },
    "kernelspec": {
      "name": "python3",
      "display_name": "Python 3"
    }
  },
  "cells": [
    {
      "cell_type": "code",
      "metadata": {
        "id": "YmF2BPcjokiN",
        "colab": {
          "base_uri": "https://localhost:8080/"
        },
        "outputId": "5535f71c-2047-4820-8b6f-959f83436eed"
      },
      "source": [
        "import pandas as pd\n",
        "import gensim.downloader as api\n",
        "import nltk\n",
        "nltk.download('punkt')\n",
        "nltk.download('wordnet')\n",
        "nltk.download('stopwords')\n",
        "from nltk import word_tokenize\n",
        "import re\n",
        "from gensim.models import Doc2Vec\n",
        "from gensim.models import Word2Vec\n",
        "from gensim import utils\n",
        "from gensim.models.doc2vec import LabeledSentence\n",
        "from gensim.corpora.dictionary import Dictionary\n",
        "from nltk.corpus import stopwords\n",
        "from nltk.stem import WordNetLemmatizer"
      ],
      "execution_count": null,
      "outputs": [
        {
          "output_type": "stream",
          "text": [
            "[nltk_data] Downloading package punkt to /root/nltk_data...\n",
            "[nltk_data]   Package punkt is already up-to-date!\n",
            "[nltk_data] Downloading package wordnet to /root/nltk_data...\n",
            "[nltk_data]   Package wordnet is already up-to-date!\n",
            "[nltk_data] Downloading package stopwords to /root/nltk_data...\n",
            "[nltk_data]   Package stopwords is already up-to-date!\n"
          ],
          "name": "stdout"
        }
      ]
    },
    {
      "cell_type": "code",
      "metadata": {
        "id": "NWuJIeB4TSFb"
      },
      "source": [
        "from sklearn.metrics import accuracy_score\n",
        "from sklearn.metrics import precision_score\n",
        "from sklearn.metrics import recall_score\n",
        "from sklearn.metrics import f1_score\n",
        "from sklearn.model_selection import KFold"
      ],
      "execution_count": null,
      "outputs": []
    },
    {
      "cell_type": "code",
      "metadata": {
        "id": "kY_cddWtDJot"
      },
      "source": [
        "from tensorflow.keras.preprocessing.text import Tokenizer\n",
        "from tensorflow.keras.preprocessing.sequence import pad_sequences\n",
        "from sklearn.preprocessing import LabelEncoder\n",
        "import gensim\n",
        "import numpy as np\n",
        "import tensorflow as tf\n",
        "from keras.preprocessing import sequence\n",
        "from keras.models import Sequential\n",
        "from keras.layers.embeddings import Embedding\n",
        "from keras.layers.recurrent import LSTM\n",
        "from keras.layers.core import Dense, Dropout\n",
        "import keras\n",
        "from keras.models import model_from_json\n"
      ],
      "execution_count": null,
      "outputs": []
    },
    {
      "cell_type": "code",
      "metadata": {
        "id": "WPBQwKQynPCU"
      },
      "source": [
        "import os\n",
        "import glob"
      ],
      "execution_count": null,
      "outputs": []
    },
    {
      "cell_type": "markdown",
      "metadata": {
        "id": "E3pmuxMuuU4W"
      },
      "source": [
        "## Reading the data set"
      ]
    },
    {
      "cell_type": "code",
      "metadata": {
        "id": "DOoXlbLuVDmy",
        "colab": {
          "base_uri": "https://localhost:8080/"
        },
        "outputId": "7c33330a-0495-45b6-f39e-336f64172870"
      },
      "source": [
        "from google.colab import drive\n",
        "drive.mount('/content/drive')"
      ],
      "execution_count": null,
      "outputs": [
        {
          "output_type": "stream",
          "text": [
            "Mounted at /content/drive\n"
          ],
          "name": "stdout"
        }
      ]
    },
    {
      "cell_type": "code",
      "metadata": {
        "id": "SHMmqABJo5lK"
      },
      "source": [
        "df = pd.read_csv('/content/drive/My Drive/IMDB Dataset.csv')\n",
        "# from google.colab import files\n",
        "# uploaded = files.upload()\n",
        "# import io\n",
        "# df2 = pd.read_csv(io.BytesIO('IMDB Dataset.csv'))"
      ],
      "execution_count": null,
      "outputs": []
    },
    {
      "cell_type": "code",
      "metadata": {
        "id": "hAZryQSMnnW-"
      },
      "source": [
        "# df = df.head(500)"
      ],
      "execution_count": null,
      "outputs": []
    },
    {
      "cell_type": "markdown",
      "metadata": {
        "id": "m1dhX78WBT46"
      },
      "source": [
        "### Google's word2vec model"
      ]
    },
    {
      "cell_type": "code",
      "metadata": {
        "id": "0s3ukUMGEAWh",
        "colab": {
          "base_uri": "https://localhost:8080/",
          "height": 88
        },
        "outputId": "64de209a-c9c3-4369-a35f-6d8f32b5ace3"
      },
      "source": [
        "\n",
        "model = api.load(\"word2vec-google-news-300\")  # download the model and return as object ready for use"
      ],
      "execution_count": null,
      "outputs": [
        {
          "output_type": "stream",
          "text": [
            "[=================================================-] 100.0% 1662.4/1662.8MB downloaded\n"
          ],
          "name": "stdout"
        },
        {
          "output_type": "stream",
          "text": [
            "/usr/local/lib/python3.6/dist-packages/smart_open/smart_open_lib.py:254: UserWarning: This function is deprecated, use smart_open.open instead. See the migration notes for details: https://github.com/RaRe-Technologies/smart_open/blob/master/README.rst#migrating-to-the-new-open-function\n",
            "  'See the migration notes for details: %s' % _MIGRATION_NOTES_URL\n"
          ],
          "name": "stderr"
        }
      ]
    },
    {
      "cell_type": "markdown",
      "metadata": {
        "id": "vdlfi4DU7jY7"
      },
      "source": [
        "### Stanford's GloVe"
      ]
    },
    {
      "cell_type": "code",
      "metadata": {
        "id": "1o3Gyo5I7jxd",
        "colab": {
          "base_uri": "https://localhost:8080/",
          "height": 357
        },
        "outputId": "7c9f97db-edf8-47f8-8a69-6ce13369ffba"
      },
      "source": [
        "!wget http://nlp.stanford.edu/data/glove.6B.zip\n",
        "!unzip -q glove.6B.zip"
      ],
      "execution_count": null,
      "outputs": [
        {
          "output_type": "stream",
          "text": [
            "--2020-10-04 18:47:02--  http://nlp.stanford.edu/data/glove.6B.zip\n",
            "Resolving nlp.stanford.edu (nlp.stanford.edu)... 171.64.67.140\n",
            "Connecting to nlp.stanford.edu (nlp.stanford.edu)|171.64.67.140|:80... connected.\n",
            "HTTP request sent, awaiting response... 302 Found\n",
            "Location: https://nlp.stanford.edu/data/glove.6B.zip [following]\n",
            "--2020-10-04 18:47:02--  https://nlp.stanford.edu/data/glove.6B.zip\n",
            "Connecting to nlp.stanford.edu (nlp.stanford.edu)|171.64.67.140|:443... connected.\n",
            "HTTP request sent, awaiting response... 301 Moved Permanently\n",
            "Location: http://downloads.cs.stanford.edu/nlp/data/glove.6B.zip [following]\n",
            "--2020-10-04 18:47:03--  http://downloads.cs.stanford.edu/nlp/data/glove.6B.zip\n",
            "Resolving downloads.cs.stanford.edu (downloads.cs.stanford.edu)... 171.64.64.22\n",
            "Connecting to downloads.cs.stanford.edu (downloads.cs.stanford.edu)|171.64.64.22|:80... connected.\n",
            "HTTP request sent, awaiting response... 200 OK\n",
            "Length: 862182613 (822M) [application/zip]\n",
            "Saving to: ‘glove.6B.zip’\n",
            "\n",
            "glove.6B.zip        100%[===================>] 822.24M  2.00MB/s    in 6m 44s  \n",
            "\n",
            "2020-10-04 18:53:48 (2.03 MB/s) - ‘glove.6B.zip’ saved [862182613/862182613]\n",
            "\n"
          ],
          "name": "stdout"
        }
      ]
    },
    {
      "cell_type": "code",
      "metadata": {
        "id": "YODBMrKg8QRm"
      },
      "source": [
        "path_to_glove_file = \"/content/glove.6B.300d.txt\"\n",
        "\n",
        "embeddings_index = {}\n",
        "with open(path_to_glove_file) as f:\n",
        "    for line in f:\n",
        "        word, coefs = line.split(maxsplit=1)\n",
        "        coefs = np.fromstring(coefs, \"f\", sep=\" \")\n",
        "        embeddings_index[word] = coefs"
      ],
      "execution_count": null,
      "outputs": []
    },
    {
      "cell_type": "markdown",
      "metadata": {
        "id": "Lbn9R4A1B1dc"
      },
      "source": [
        "### Self-trained GloVe"
      ]
    },
    {
      "cell_type": "code",
      "metadata": {
        "id": "yJGMQ_L1B7NN",
        "colab": {
          "base_uri": "https://localhost:8080/",
          "height": 241
        },
        "outputId": "44e94ba8-0066-4cde-98a7-74e2dd2a7e13"
      },
      "source": [
        "pip install glove_python"
      ],
      "execution_count": null,
      "outputs": [
        {
          "output_type": "stream",
          "text": [
            "Collecting glove_python\n",
            "\u001b[?25l  Downloading https://files.pythonhosted.org/packages/3e/79/7e7e548dd9dcb741935d031117f4bed133276c2a047aadad42f1552d1771/glove_python-0.1.0.tar.gz (263kB)\n",
            "\r\u001b[K     |█▎                              | 10kB 17.2MB/s eta 0:00:01\r\u001b[K     |██▌                             | 20kB 2.1MB/s eta 0:00:01\r\u001b[K     |███▊                            | 30kB 2.8MB/s eta 0:00:01\r\u001b[K     |█████                           | 40kB 3.1MB/s eta 0:00:01\r\u001b[K     |██████▎                         | 51kB 2.5MB/s eta 0:00:01\r\u001b[K     |███████▌                        | 61kB 2.8MB/s eta 0:00:01\r\u001b[K     |████████▊                       | 71kB 3.0MB/s eta 0:00:01\r\u001b[K     |██████████                      | 81kB 3.3MB/s eta 0:00:01\r\u001b[K     |███████████▏                    | 92kB 3.5MB/s eta 0:00:01\r\u001b[K     |████████████▌                   | 102kB 3.4MB/s eta 0:00:01\r\u001b[K     |█████████████▊                  | 112kB 3.4MB/s eta 0:00:01\r\u001b[K     |███████████████                 | 122kB 3.4MB/s eta 0:00:01\r\u001b[K     |████████████████▏               | 133kB 3.4MB/s eta 0:00:01\r\u001b[K     |█████████████████▍              | 143kB 3.4MB/s eta 0:00:01\r\u001b[K     |██████████████████▊             | 153kB 3.4MB/s eta 0:00:01\r\u001b[K     |████████████████████            | 163kB 3.4MB/s eta 0:00:01\r\u001b[K     |█████████████████████▏          | 174kB 3.4MB/s eta 0:00:01\r\u001b[K     |██████████████████████▍         | 184kB 3.4MB/s eta 0:00:01\r\u001b[K     |███████████████████████▋        | 194kB 3.4MB/s eta 0:00:01\r\u001b[K     |█████████████████████████       | 204kB 3.4MB/s eta 0:00:01\r\u001b[K     |██████████████████████████▏     | 215kB 3.4MB/s eta 0:00:01\r\u001b[K     |███████████████████████████▍    | 225kB 3.4MB/s eta 0:00:01\r\u001b[K     |████████████████████████████▋   | 235kB 3.4MB/s eta 0:00:01\r\u001b[K     |█████████████████████████████▉  | 245kB 3.4MB/s eta 0:00:01\r\u001b[K     |███████████████████████████████▏| 256kB 3.4MB/s eta 0:00:01\r\u001b[K     |████████████████████████████████| 266kB 3.4MB/s \n",
            "\u001b[?25hRequirement already satisfied: numpy in /usr/local/lib/python3.6/dist-packages (from glove_python) (1.18.5)\n",
            "Requirement already satisfied: scipy in /usr/local/lib/python3.6/dist-packages (from glove_python) (1.4.1)\n",
            "Building wheels for collected packages: glove-python\n",
            "  Building wheel for glove-python (setup.py) ... \u001b[?25l\u001b[?25hdone\n",
            "  Created wheel for glove-python: filename=glove_python-0.1.0-cp36-cp36m-linux_x86_64.whl size=700265 sha256=fd8ff000547801a65f735e6d25c20746a22318bf7d43babf71f6dc9877007121\n",
            "  Stored in directory: /root/.cache/pip/wheels/88/4b/6d/10c0d2ad32c9d9d68beec9694a6f0b6e83ab1662a90a089a4b\n",
            "Successfully built glove-python\n",
            "Installing collected packages: glove-python\n",
            "Successfully installed glove-python-0.1.0\n"
          ],
          "name": "stdout"
        }
      ]
    },
    {
      "cell_type": "markdown",
      "metadata": {
        "id": "-Q1P8SphEsbe"
      },
      "source": [
        "## Testing the word2vec"
      ]
    },
    {
      "cell_type": "markdown",
      "metadata": {
        "id": "r9tpXew6HY9X"
      },
      "source": [
        "### Word vectors refers to all the words in the corpus"
      ]
    },
    {
      "cell_type": "code",
      "metadata": {
        "id": "7HJqUF01Eruz",
        "colab": {
          "base_uri": "https://localhost:8080/",
          "height": 50
        },
        "outputId": "03a05234-0923-404d-da20-1ac2de1ffb1c"
      },
      "source": [
        "word_vectors = model.wv"
      ],
      "execution_count": null,
      "outputs": [
        {
          "output_type": "stream",
          "text": [
            "/usr/local/lib/python3.6/dist-packages/ipykernel_launcher.py:1: DeprecationWarning: Call to deprecated `wv` (Attribute will be removed in 4.0.0, use self instead).\n",
            "  \"\"\"Entry point for launching an IPython kernel.\n"
          ],
          "name": "stderr"
        }
      ]
    },
    {
      "cell_type": "code",
      "metadata": {
        "id": "TfS4IEDABS8V"
      },
      "source": [
        "# /# Load word2vec model (trained on an enormous Google corpus)\n",
        "# download\n",
        "# from gensim import models\n",
        "# model = gensim.models.KeyedVectors.load_word2vec_format('GoogleNews-vectors-negative300.bin', binary = True) "
      ],
      "execution_count": null,
      "outputs": []
    },
    {
      "cell_type": "markdown",
      "metadata": {
        "id": "iVADsSx5Gmdj"
      },
      "source": [
        "## Identify all the words that are not present in the word2vec corpus and then start with the data preprocessing accordingly"
      ]
    },
    {
      "cell_type": "markdown",
      "metadata": {
        "id": "BpkbYdZXHNUb"
      },
      "source": [
        "## Tokenize sentences and create a word corpus\n",
        "\n",
        "---\n",
        "\n"
      ]
    },
    {
      "cell_type": "markdown",
      "metadata": {
        "id": "2aS8L6YTJLBm"
      },
      "source": [
        "### Should remove punctuations, numbers and HTML tags"
      ]
    },
    {
      "cell_type": "code",
      "metadata": {
        "id": "SgyOePSLoHUk"
      },
      "source": [
        "# out_of_domain = pd.read_csv('/content/drive/My Drive/out_of_domain.csv')"
      ],
      "execution_count": null,
      "outputs": []
    },
    {
      "cell_type": "code",
      "metadata": {
        "id": "ZHYRFG__G6--"
      },
      "source": [
        "s_words = stopwords.words('english')\n",
        "def preprocess(text):\n",
        "    new_text = re.sub('<.*?>', ' ', text)   # remove HTML tags\n",
        "    new_text = re.sub(r'[^\\w\\s]', ' ', new_text) # remove punc.\n",
        "    new_text = re.sub(r'_', ' ', new_text) # remove punc.\n",
        "    new_text = re.sub(r'\\d+',' ',new_text)# remove numbers\n",
        "    new_text = new_text.lower() # lower case, .upper() for upper    \n",
        "    word_tokens = word_tokenize(new_text) \n",
        "    new_text = ' '.join([w for w in word_tokens if w not in s_words]) \n",
        "    return new_text\n",
        "    "
      ],
      "execution_count": null,
      "outputs": []
    },
    {
      "cell_type": "code",
      "metadata": {
        "id": "RjICrRliiaOq"
      },
      "source": [
        "def remove_s_words(text):\n",
        "    word_tokens = word_tokenize(text) \n",
        "    new_text = ' '.join([w for w in word_tokens if w not in s_words]) \n",
        "    return new_text"
      ],
      "execution_count": null,
      "outputs": []
    },
    {
      "cell_type": "code",
      "metadata": {
        "id": "wjR8QFUtJxj0"
      },
      "source": [
        "df['review'] = df['review'].apply(lambda x: preprocess(x)) "
      ],
      "execution_count": null,
      "outputs": []
    },
    {
      "cell_type": "code",
      "metadata": {
        "id": "oQR96J8woquc"
      },
      "source": [
        "google_flag = 0\n",
        "stanford_flag = 0"
      ],
      "execution_count": null,
      "outputs": []
    },
    {
      "cell_type": "markdown",
      "metadata": {
        "id": "dprZLiFBxhwn"
      },
      "source": [
        "### out of domain words if pre-trained models are being used\n",
        "\n",
        "\n"
      ]
    },
    {
      "cell_type": "code",
      "metadata": {
        "id": "qeZNj7wHJwX4"
      },
      "source": [
        "corpus = word_tokenize(\" \".join(df.iloc[:,0]))\n",
        "corpus = list(set(corpus))\n",
        "if google_flag==1:\n",
        "  out_of_domain = []\n",
        "  for i in corpus:\n",
        "    if i not in word_vectors:\n",
        "      out_of_domain = out_of_domain+[i]\n",
        "    else:\n",
        "      continue \n",
        "\n",
        "if stanford_flag==1:\n",
        "  out_of_domain = []\n",
        "  word_vectors = list(embeddings_index.values())\n",
        "  for i in corpus:\n",
        "    if i not in word_vectors:\n",
        "      out_of_domain = out_of_domain+[i]\n",
        "    else:\n",
        "      continue \n",
        "\n",
        "\n",
        "def ood(text):\n",
        "  word_tokens = word_tokenize(text) \n",
        "  new_text = ' '.join([w for w in word_tokens if w not in out_of_domain])\n",
        "  return new_text\n",
        "\n",
        "  \n",
        "if google_flag==1:\n",
        "  df['review'] = df['review'].apply(lambda x: ood(x)) \n",
        "  corpus = word_tokenize(\" \".join(df.iloc[:,0]))\n",
        "  corpus = list(set(corpus))\n",
        "\n",
        "if stanford_flag==1:\n",
        "  df['review'] = df['review'].apply(lambda x: ood(x)) \n",
        "  corpus = word_tokenize(\" \".join(df.iloc[:,0]))\n",
        "  corpus = list(set(corpus))"
      ],
      "execution_count": null,
      "outputs": []
    },
    {
      "cell_type": "code",
      "metadata": {
        "id": "CgLQYpRxEt5N"
      },
      "source": [
        "# len(out_of_domain)/(len(corpus)+len(out_of_domain))*100"
      ],
      "execution_count": null,
      "outputs": []
    },
    {
      "cell_type": "code",
      "metadata": {
        "id": "bpAcVXP8EhXZ",
        "colab": {
          "base_uri": "https://localhost:8080/"
        },
        "outputId": "bbf73cb7-aabe-488c-96cd-5fc2a6bfcdb5"
      },
      "source": [
        "len(corpus)"
      ],
      "execution_count": null,
      "outputs": [
        {
          "output_type": "execute_result",
          "data": {
            "text/plain": [
              "99713"
            ]
          },
          "metadata": {
            "tags": []
          },
          "execution_count": 37
        }
      ]
    },
    {
      "cell_type": "markdown",
      "metadata": {
        "id": "hb73VEjm9dJh"
      },
      "source": [
        "### Fitting the GloVe model"
      ]
    },
    {
      "cell_type": "code",
      "metadata": {
        "id": "7VcFUjxZ9grf",
        "colab": {
          "base_uri": "https://localhost:8080/",
          "height": 544
        },
        "outputId": "11788d69-1f68-4b10-baea-aa1480c80259"
      },
      "source": [
        "from glove import Corpus, Glove\n",
        "#Creating a corpus object\n",
        "corp = Corpus() \n",
        "#Training the corpus to generate the co occurence matrix which is used in GloVe\n",
        "lines =  list(df['review'].apply(lambda x: word_tokenize(x)))\n",
        "corp.fit(lines, window=10)\n",
        "\n",
        "glove = Glove(no_components=300, learning_rate=0.05)\n",
        "glove.fit(corp.matrix, epochs=30, no_threads=4, verbose=True)\n",
        "glove.add_dictionary(corp.dictionary)"
      ],
      "execution_count": null,
      "outputs": [
        {
          "output_type": "stream",
          "text": [
            "Performing 30 training epochs with 4 threads\n",
            "Epoch 0\n",
            "Epoch 1\n",
            "Epoch 2\n",
            "Epoch 3\n",
            "Epoch 4\n",
            "Epoch 5\n",
            "Epoch 6\n",
            "Epoch 7\n",
            "Epoch 8\n",
            "Epoch 9\n",
            "Epoch 10\n",
            "Epoch 11\n",
            "Epoch 12\n",
            "Epoch 13\n",
            "Epoch 14\n",
            "Epoch 15\n",
            "Epoch 16\n",
            "Epoch 17\n",
            "Epoch 18\n",
            "Epoch 19\n",
            "Epoch 20\n",
            "Epoch 21\n",
            "Epoch 22\n",
            "Epoch 23\n",
            "Epoch 24\n",
            "Epoch 25\n",
            "Epoch 26\n",
            "Epoch 27\n",
            "Epoch 28\n",
            "Epoch 29\n"
          ],
          "name": "stdout"
        }
      ]
    },
    {
      "cell_type": "code",
      "metadata": {
        "id": "9GsXBOeMI-uG"
      },
      "source": [
        "embedding_index = {}\n",
        "for i in corpus:\n",
        "  coefs = glove.word_vectors[glove.dictionary[i]]\n",
        "  embedding_index[i] = coefs"
      ],
      "execution_count": null,
      "outputs": []
    },
    {
      "cell_type": "markdown",
      "metadata": {
        "id": "ZJSKd1ZhrdKe"
      },
      "source": [
        "### Fitting the word2vec model"
      ]
    },
    {
      "cell_type": "code",
      "metadata": {
        "id": "XKxEe2MesYHL"
      },
      "source": [
        "import multiprocessing as mp"
      ],
      "execution_count": null,
      "outputs": []
    },
    {
      "cell_type": "code",
      "metadata": {
        "id": "KuIuW9yN_ddq"
      },
      "source": [
        "vector_size = 300\n",
        "maxlen = 64\n",
        "n_iterations = 10  # ideally more..\n",
        "n_exposures = 30\n",
        "window_size = 5\n",
        "batch_size = 32\n",
        "n_epoch = 2\n",
        "input_length = 50\n",
        "cpu_count = mp.cpu_count()\n",
        "sg=0\n"
      ],
      "execution_count": null,
      "outputs": []
    },
    {
      "cell_type": "code",
      "metadata": {
        "id": "f2FioNGhnaRe"
      },
      "source": [
        "df['tokenized_review'] = df['review'].apply(lambda x: word_tokenize(x))\n"
      ],
      "execution_count": null,
      "outputs": []
    },
    {
      "cell_type": "code",
      "metadata": {
        "id": "qRkGH3olz32j"
      },
      "source": [
        "model = Word2Vec()\n",
        "model.build_vocab(df['tokenized_review'].values)\n",
        "model = gensim.models.Word2Vec(df['tokenized_review'].values, min_count = 2,  size = vector_size, window = window_size,sg=sg) \n",
        "\n",
        "# gensim_dict = Dictionary()\n",
        "# gensim_dict.doc2bow(corpus,allow_update=True)\n",
        "# w2indx = {v: k+1 for k, v in gensim_dict.items()}\n",
        "# w2vec = {word: model[word] for word in w2indx.keys()}\n",
        "# embedding_len = len(w2vec['movie'])\n",
        "# vocab_dim = len(corpus)"
      ],
      "execution_count": null,
      "outputs": []
    },
    {
      "cell_type": "code",
      "metadata": {
        "id": "ei03XPSQy9bz"
      },
      "source": [
        "w2vec_corpus = list(model.wv.vocab.keys())"
      ],
      "execution_count": null,
      "outputs": []
    },
    {
      "cell_type": "code",
      "metadata": {
        "id": "6C1h9BcOxlwy",
        "colab": {
          "base_uri": "https://localhost:8080/"
        },
        "outputId": "045b4195-4cad-4525-f1e8-13140d197b9a"
      },
      "source": [
        "gensim_dict = Dictionary()\n",
        "gensim_dict.doc2bow(w2vec_corpus,allow_update=True)\n",
        "w2indx = {v: k+1 for k, v in gensim_dict.items()}\n",
        "w2vec = {word: model[word] for word in w2indx.keys()}\n",
        "embedding_len = len(w2vec['movie'])\n",
        "vocab_dim = len(corpus)"
      ],
      "execution_count": null,
      "outputs": [
        {
          "output_type": "stream",
          "text": [
            "/usr/local/lib/python3.6/dist-packages/ipykernel_launcher.py:4: DeprecationWarning: Call to deprecated `__getitem__` (Method will be removed in 4.0.0, use self.wv.__getitem__() instead).\n",
            "  after removing the cwd from sys.path.\n"
          ],
          "name": "stderr"
        }
      ]
    },
    {
      "cell_type": "markdown",
      "metadata": {
        "id": "zTJ2vHT6lzll"
      },
      "source": [
        "# Word Analogy Task for evaluating WORD EMBEDDINGS trained on Word2Vec"
      ]
    },
    {
      "cell_type": "markdown",
      "metadata": {
        "id": "b4SlV-aWl-sJ"
      },
      "source": [
        "### First read all the words given in the documents that I have "
      ]
    },
    {
      "cell_type": "code",
      "metadata": {
        "id": "41QVmzvjly6-"
      },
      "source": [
        "# Step 1: get a list of all csv files in target directory\n",
        "# final_analogy = pd.DataFrame(columns = ['word','semantic'])\n",
        "final_analogy_df = pd.DataFrame()\n",
        "\n",
        "# for k in ['3_Encyclopedic_semantics','4_Lexicographic_semantics']:\n",
        "my_dir = \"/content/\"\n",
        "filelist = []\n",
        "filesList = []\n",
        "os.chdir( my_dir )\n",
        "\n",
        "# Step 2: Build up list of files:\n",
        "for files in glob.glob(\"*.txt\"):\n",
        "  fileName, fileExtension = os.path.splitext(files)\n",
        "  filesList.append(files) #filename with extension\n",
        "\n",
        "  # Step 3: Build up DataFrame:\n",
        "analogy_df = pd.DataFrame()\n",
        "for i in filesList:\n",
        "  analogy_df = pd.read_csv(i, sep=\"\\t\", header=None)\n",
        "  # analogy_df = analogy_df.append(frame)\n",
        "  analogy_df['file_name'] = i\n",
        "  final_analogy_df = pd.concat([analogy_df, final_analogy_df])"
      ],
      "execution_count": null,
      "outputs": []
    },
    {
      "cell_type": "code",
      "metadata": {
        "id": "aZq_4kcaoRZK"
      },
      "source": [
        "final_analogy_df.columns = ['word','meaning','file_name']\n",
        "coverage_df = final_analogy_df[final_analogy_df['word'].isin(corpus)]"
      ],
      "execution_count": null,
      "outputs": []
    },
    {
      "cell_type": "code",
      "metadata": {
        "id": "5-58jFJ64VT9"
      },
      "source": [
        "def corpus_filter(text):\n",
        "  text_list = text.split('/')\n",
        "  temp_text_list = []\n",
        "  for i in text_list:\n",
        "    if i in corpus:\n",
        "      temp_text_list = temp_text_list + [i]\n",
        "      # print (temp_text_list)\n",
        "  return (temp_text_list)      "
      ],
      "execution_count": null,
      "outputs": []
    },
    {
      "cell_type": "code",
      "metadata": {
        "id": "iAcHxU625KB0",
        "colab": {
          "base_uri": "https://localhost:8080/",
          "height": 241
        },
        "outputId": "0081057d-c264-4d4a-86c0-943820f8ada7"
      },
      "source": [
        "coverage_df['meaning'] = coverage_df['meaning'].apply(lambda x: corpus_filter(x))\n",
        "coverage_df['len_meaning'] = coverage_df['meaning'].apply(lambda x:len(x))\n",
        "coverage_df = coverage_df[coverage_df['len_meaning']!=0]"
      ],
      "execution_count": null,
      "outputs": [
        {
          "output_type": "stream",
          "text": [
            "/usr/local/lib/python3.6/dist-packages/ipykernel_launcher.py:1: SettingWithCopyWarning: \n",
            "A value is trying to be set on a copy of a slice from a DataFrame.\n",
            "Try using .loc[row_indexer,col_indexer] = value instead\n",
            "\n",
            "See the caveats in the documentation: https://pandas.pydata.org/pandas-docs/stable/user_guide/indexing.html#returning-a-view-versus-a-copy\n",
            "  \"\"\"Entry point for launching an IPython kernel.\n",
            "/usr/local/lib/python3.6/dist-packages/ipykernel_launcher.py:2: SettingWithCopyWarning: \n",
            "A value is trying to be set on a copy of a slice from a DataFrame.\n",
            "Try using .loc[row_indexer,col_indexer] = value instead\n",
            "\n",
            "See the caveats in the documentation: https://pandas.pydata.org/pandas-docs/stable/user_guide/indexing.html#returning-a-view-versus-a-copy\n",
            "  \n"
          ],
          "name": "stderr"
        }
      ]
    },
    {
      "cell_type": "code",
      "metadata": {
        "id": "X9BiKmuk66-t"
      },
      "source": [
        "from sklearn.metrics.pairwise import pairwise_distances\n",
        "def analogy(x1,x2,y1,y2):\n",
        "  lis = []\n",
        "  for i in x2:\n",
        "    try:\n",
        "      result = model.wv.most_similar(negative=[i], \n",
        "                                  positive=[x1, y1])\n",
        "      # return (result)\n",
        "      length = len(result)\n",
        "      # return (result)\n",
        "      result  = [result[j][0] for j in range(0,length)]\n",
        "      # print(str(x1)+' + '+str(y1)+' - '+str(i)+' = ') \n",
        "      # print (result)\n",
        "      result = list(set(result).intersection(set(y2)))\n",
        "      if len(result)>0:\n",
        "        lis+=[1]\n",
        "      else:\n",
        "        lis+=[0]\n",
        "    except:\n",
        "      lis+=['OOV']\n",
        "    return (lis)"
      ],
      "execution_count": null,
      "outputs": []
    },
    {
      "cell_type": "code",
      "metadata": {
        "id": "HRPDeLwFDETn",
        "colab": {
          "base_uri": "https://localhost:8080/",
          "height": 231
        },
        "outputId": "c3f3a545-a6d5-453d-daff-b48874c7904d"
      },
      "source": [
        "coverage_df.columns = ['word1','meaning1','file_name','len1']\n",
        "coverage_df_copy = coverage_df.copy()\n",
        "coverage_df_copy.columns = ['word2','meaning2','file_name','len2']\n",
        "queries = coverage_df.merge(coverage_df_copy,how = 'outer',on = 'file_name')\n",
        "# queries.drop(columns = 'key', inplace = True)"
      ],
      "execution_count": null,
      "outputs": [
        {
          "output_type": "error",
          "ename": "NameError",
          "evalue": "ignored",
          "traceback": [
            "\u001b[0;31m---------------------------------------------------------------------------\u001b[0m",
            "\u001b[0;31mNameError\u001b[0m                                 Traceback (most recent call last)",
            "\u001b[0;32m<ipython-input-25-87ec3096be73>\u001b[0m in \u001b[0;36m<module>\u001b[0;34m()\u001b[0m\n\u001b[0;32m----> 1\u001b[0;31m \u001b[0mcoverage_df\u001b[0m\u001b[0;34m.\u001b[0m\u001b[0mcolumns\u001b[0m \u001b[0;34m=\u001b[0m \u001b[0;34m[\u001b[0m\u001b[0;34m'word1'\u001b[0m\u001b[0;34m,\u001b[0m\u001b[0;34m'meaning1'\u001b[0m\u001b[0;34m,\u001b[0m\u001b[0;34m'file_name'\u001b[0m\u001b[0;34m,\u001b[0m\u001b[0;34m'len1'\u001b[0m\u001b[0;34m]\u001b[0m\u001b[0;34m\u001b[0m\u001b[0;34m\u001b[0m\u001b[0m\n\u001b[0m\u001b[1;32m      2\u001b[0m \u001b[0mcoverage_df_copy\u001b[0m \u001b[0;34m=\u001b[0m \u001b[0mcoverage_df\u001b[0m\u001b[0;34m.\u001b[0m\u001b[0mcopy\u001b[0m\u001b[0;34m(\u001b[0m\u001b[0;34m)\u001b[0m\u001b[0;34m\u001b[0m\u001b[0;34m\u001b[0m\u001b[0m\n\u001b[1;32m      3\u001b[0m \u001b[0mcoverage_df_copy\u001b[0m\u001b[0;34m.\u001b[0m\u001b[0mcolumns\u001b[0m \u001b[0;34m=\u001b[0m \u001b[0;34m[\u001b[0m\u001b[0;34m'word2'\u001b[0m\u001b[0;34m,\u001b[0m\u001b[0;34m'meaning2'\u001b[0m\u001b[0;34m,\u001b[0m\u001b[0;34m'file_name'\u001b[0m\u001b[0;34m,\u001b[0m\u001b[0;34m'len2'\u001b[0m\u001b[0;34m]\u001b[0m\u001b[0;34m\u001b[0m\u001b[0;34m\u001b[0m\u001b[0m\n\u001b[1;32m      4\u001b[0m \u001b[0mqueries\u001b[0m \u001b[0;34m=\u001b[0m \u001b[0mcoverage_df\u001b[0m\u001b[0;34m.\u001b[0m\u001b[0mmerge\u001b[0m\u001b[0;34m(\u001b[0m\u001b[0mcoverage_df_copy\u001b[0m\u001b[0;34m,\u001b[0m\u001b[0mhow\u001b[0m \u001b[0;34m=\u001b[0m \u001b[0;34m'outer'\u001b[0m\u001b[0;34m,\u001b[0m\u001b[0mon\u001b[0m \u001b[0;34m=\u001b[0m \u001b[0;34m'file_name'\u001b[0m\u001b[0;34m)\u001b[0m\u001b[0;34m\u001b[0m\u001b[0;34m\u001b[0m\u001b[0m\n\u001b[1;32m      5\u001b[0m \u001b[0;31m# queries.drop(columns = 'key', inplace = True)\u001b[0m\u001b[0;34m\u001b[0m\u001b[0;34m\u001b[0m\u001b[0;34m\u001b[0m\u001b[0m\n",
            "\u001b[0;31mNameError\u001b[0m: name 'coverage_df' is not defined"
          ]
        }
      ]
    },
    {
      "cell_type": "code",
      "metadata": {
        "id": "fgX1agygCMNR"
      },
      "source": [
        "# queries.to_csv('\\content\\word_analogy_queries.csv', index = False)\n",
        "queries = pd.read_csv('/content/drive/My Drive/word_analogy_queries.csv')"
      ],
      "execution_count": null,
      "outputs": []
    },
    {
      "cell_type": "code",
      "metadata": {
        "id": "Xx7pO9gjHvY9",
        "colab": {
          "base_uri": "https://localhost:8080/",
          "height": 1000
        },
        "outputId": "c050c2fe-7fcd-4bd8-f365-2ccbcd75fa8f"
      },
      "source": [
        "import ast\n",
        "window = [7,10]\n",
        "min_count = [2,3,6,18]\n",
        "size = [50,100,200,300,400]\n",
        "sg = [0,1]\n",
        "eval_df = pd.DataFrame(columns = ['win', 'mc', 'sz','s_or_g', 'ided','correct','percentage'])\n",
        "ctr = 1\n",
        "for win in window:\n",
        "  for mc in min_count:\n",
        "    for sz in size:\n",
        "      for s_or_g in sg:\n",
        "        print ('Model Creation started!')\n",
        "        model = Word2Vec()\n",
        "        model.build_vocab(df['tokenized_review'].values)\n",
        "        model = gensim.models.Word2Vec(df['tokenized_review'].values, min_count = mc,  size = sz, window = win, sg = s_or_g) \n",
        "        # gensim_dict = Dictionary()\n",
        "        # gensim_dict.doc2bow(corpus,allow_update=True)\n",
        "        # w2indx = {v: k+1 for k, v in gensim_dict.items()}\n",
        "        # w2vec = {word: model[word] for word in w2indx.keys()}\n",
        "        # embedding_len = len(w2vec['movie'])\n",
        "        vocab_dim = len(corpus)\n",
        "        output = []\n",
        "        print ('Model has been created!!')\n",
        "\n",
        "        for i in range(0,len(queries)):\n",
        "          if i%10000==0:\n",
        "            print (str(round(ctr*100/80,2))+str('% Complete!')) \n",
        "            eval_df.to_csv('/content/drive/My Drive/word2vec_eval_2.csv', index = False)\n",
        "\n",
        "          word1 = queries.iloc[i,0]\n",
        "          meaning1 = queries.iloc[i,1]\n",
        "          word2 = queries.iloc[i,4]\n",
        "          meaning2 = queries.iloc[i,5]\n",
        "          meaning1 = ast.literal_eval(meaning1) \n",
        "          meaning2 = ast.literal_eval(meaning2) \n",
        "          out = analogy(word1,meaning1,word2,meaning2)\n",
        "          output+=out\n",
        "        mod_output = [x for x in output if x!='OOV']\n",
        "        ided = len(mod_output)\n",
        "        correct = sum(mod_output)\n",
        "        percentage = correct*100.0/ided\n",
        "        eval_df = eval_df.append({'win':win,'mc':mc,'sz':sz,'s_or_g':s_or_g,'ided':ided,\n",
        "                                  'correct':correct,'percentage':percentage}, ignore_index = True)\n",
        "        ctr+=1"
      ],
      "execution_count": null,
      "outputs": [
        {
          "output_type": "stream",
          "text": [
            "Model Creation started!\n",
            "Model has been created!!\n",
            "0.62% Complete!\n"
          ],
          "name": "stdout"
        },
        {
          "output_type": "stream",
          "text": [
            "/usr/local/lib/python3.6/dist-packages/gensim/matutils.py:737: FutureWarning: Conversion of the second argument of issubdtype from `int` to `np.signedinteger` is deprecated. In future, it will be treated as `np.int64 == np.dtype(int).type`.\n",
            "  if np.issubdtype(vec.dtype, np.int):\n"
          ],
          "name": "stderr"
        },
        {
          "output_type": "stream",
          "text": [
            "0.62% Complete!\n",
            "0.62% Complete!\n",
            "0.62% Complete!\n",
            "Model Creation started!\n",
            "Model has been created!!\n",
            "1.25% Complete!\n",
            "1.25% Complete!\n",
            "1.25% Complete!\n",
            "1.25% Complete!\n",
            "Model Creation started!\n",
            "Model has been created!!\n",
            "1.88% Complete!\n",
            "1.88% Complete!\n",
            "1.88% Complete!\n",
            "1.88% Complete!\n",
            "Model Creation started!\n",
            "Model has been created!!\n",
            "2.5% Complete!\n",
            "2.5% Complete!\n",
            "2.5% Complete!\n",
            "2.5% Complete!\n",
            "Model Creation started!\n",
            "Model has been created!!\n",
            "3.12% Complete!\n",
            "3.12% Complete!\n",
            "3.12% Complete!\n",
            "3.12% Complete!\n",
            "Model Creation started!\n",
            "Model has been created!!\n",
            "3.75% Complete!\n",
            "3.75% Complete!\n",
            "3.75% Complete!\n",
            "3.75% Complete!\n",
            "Model Creation started!\n",
            "Model has been created!!\n",
            "4.38% Complete!\n",
            "4.38% Complete!\n",
            "4.38% Complete!\n",
            "4.38% Complete!\n",
            "Model Creation started!\n",
            "Model has been created!!\n",
            "5.0% Complete!\n",
            "5.0% Complete!\n",
            "5.0% Complete!\n",
            "5.0% Complete!\n",
            "Model Creation started!\n",
            "Model has been created!!\n",
            "5.62% Complete!\n",
            "5.62% Complete!\n",
            "5.62% Complete!\n",
            "5.62% Complete!\n",
            "Model Creation started!\n",
            "Model has been created!!\n",
            "6.25% Complete!\n",
            "6.25% Complete!\n",
            "6.25% Complete!\n",
            "6.25% Complete!\n",
            "Model Creation started!\n",
            "Model has been created!!\n",
            "6.88% Complete!\n",
            "6.88% Complete!\n",
            "6.88% Complete!\n",
            "6.88% Complete!\n",
            "Model Creation started!\n",
            "Model has been created!!\n",
            "7.5% Complete!\n",
            "7.5% Complete!\n",
            "7.5% Complete!\n",
            "7.5% Complete!\n",
            "Model Creation started!\n",
            "Model has been created!!\n",
            "8.12% Complete!\n",
            "8.12% Complete!\n",
            "8.12% Complete!\n",
            "8.12% Complete!\n",
            "Model Creation started!\n",
            "Model has been created!!\n",
            "8.75% Complete!\n",
            "8.75% Complete!\n",
            "8.75% Complete!\n",
            "8.75% Complete!\n",
            "Model Creation started!\n",
            "Model has been created!!\n",
            "9.38% Complete!\n",
            "9.38% Complete!\n",
            "9.38% Complete!\n",
            "9.38% Complete!\n",
            "Model Creation started!\n",
            "Model has been created!!\n",
            "10.0% Complete!\n",
            "10.0% Complete!\n",
            "10.0% Complete!\n",
            "10.0% Complete!\n",
            "Model Creation started!\n",
            "Model has been created!!\n",
            "10.62% Complete!\n",
            "10.62% Complete!\n",
            "10.62% Complete!\n",
            "10.62% Complete!\n",
            "Model Creation started!\n",
            "Model has been created!!\n",
            "11.25% Complete!\n",
            "11.25% Complete!\n",
            "11.25% Complete!\n",
            "11.25% Complete!\n",
            "Model Creation started!\n",
            "Model has been created!!\n",
            "11.88% Complete!\n",
            "11.88% Complete!\n",
            "11.88% Complete!\n",
            "11.88% Complete!\n",
            "Model Creation started!\n",
            "Model has been created!!\n",
            "12.5% Complete!\n",
            "12.5% Complete!\n",
            "12.5% Complete!\n",
            "12.5% Complete!\n",
            "Model Creation started!\n",
            "Model has been created!!\n",
            "13.12% Complete!\n",
            "13.12% Complete!\n",
            "13.12% Complete!\n",
            "13.12% Complete!\n",
            "Model Creation started!\n",
            "Model has been created!!\n",
            "13.75% Complete!\n",
            "13.75% Complete!\n",
            "13.75% Complete!\n",
            "13.75% Complete!\n",
            "Model Creation started!\n",
            "Model has been created!!\n",
            "14.38% Complete!\n",
            "14.38% Complete!\n",
            "14.38% Complete!\n",
            "14.38% Complete!\n",
            "Model Creation started!\n",
            "Model has been created!!\n",
            "15.0% Complete!\n",
            "15.0% Complete!\n",
            "15.0% Complete!\n",
            "15.0% Complete!\n",
            "Model Creation started!\n",
            "Model has been created!!\n",
            "15.62% Complete!\n",
            "15.62% Complete!\n",
            "15.62% Complete!\n",
            "15.62% Complete!\n",
            "Model Creation started!\n",
            "Model has been created!!\n",
            "16.25% Complete!\n",
            "16.25% Complete!\n",
            "16.25% Complete!\n",
            "16.25% Complete!\n",
            "Model Creation started!\n",
            "Model has been created!!\n",
            "16.88% Complete!\n",
            "16.88% Complete!\n",
            "16.88% Complete!\n",
            "16.88% Complete!\n",
            "Model Creation started!\n",
            "Model has been created!!\n",
            "17.5% Complete!\n",
            "17.5% Complete!\n",
            "17.5% Complete!\n",
            "17.5% Complete!\n",
            "Model Creation started!\n",
            "Model has been created!!\n",
            "18.12% Complete!\n",
            "18.12% Complete!\n",
            "18.12% Complete!\n",
            "18.12% Complete!\n",
            "Model Creation started!\n",
            "Model has been created!!\n",
            "18.75% Complete!\n",
            "18.75% Complete!\n",
            "18.75% Complete!\n",
            "18.75% Complete!\n",
            "Model Creation started!\n",
            "Model has been created!!\n",
            "19.38% Complete!\n",
            "19.38% Complete!\n",
            "19.38% Complete!\n",
            "19.38% Complete!\n",
            "Model Creation started!\n",
            "Model has been created!!\n",
            "20.0% Complete!\n",
            "20.0% Complete!\n",
            "20.0% Complete!\n",
            "20.0% Complete!\n",
            "Model Creation started!\n",
            "Model has been created!!\n",
            "20.62% Complete!\n",
            "20.62% Complete!\n",
            "20.62% Complete!\n",
            "20.62% Complete!\n",
            "Model Creation started!\n",
            "Model has been created!!\n",
            "21.25% Complete!\n",
            "21.25% Complete!\n",
            "21.25% Complete!\n",
            "21.25% Complete!\n",
            "Model Creation started!\n",
            "Model has been created!!\n",
            "21.88% Complete!\n",
            "21.88% Complete!\n",
            "21.88% Complete!\n",
            "21.88% Complete!\n",
            "Model Creation started!\n",
            "Model has been created!!\n",
            "22.5% Complete!\n",
            "22.5% Complete!\n",
            "22.5% Complete!\n",
            "22.5% Complete!\n",
            "Model Creation started!\n",
            "Model has been created!!\n",
            "23.12% Complete!\n",
            "23.12% Complete!\n",
            "23.12% Complete!\n",
            "23.12% Complete!\n",
            "Model Creation started!\n",
            "Model has been created!!\n",
            "23.75% Complete!\n",
            "23.75% Complete!\n",
            "23.75% Complete!\n",
            "23.75% Complete!\n",
            "Model Creation started!\n",
            "Model has been created!!\n",
            "24.38% Complete!\n",
            "24.38% Complete!\n",
            "24.38% Complete!\n",
            "24.38% Complete!\n",
            "Model Creation started!\n",
            "Model has been created!!\n",
            "25.0% Complete!\n",
            "25.0% Complete!\n",
            "25.0% Complete!\n",
            "25.0% Complete!\n",
            "Model Creation started!\n",
            "Model has been created!!\n",
            "25.62% Complete!\n",
            "25.62% Complete!\n",
            "25.62% Complete!\n",
            "25.62% Complete!\n",
            "Model Creation started!\n",
            "Model has been created!!\n",
            "26.25% Complete!\n",
            "26.25% Complete!\n",
            "26.25% Complete!\n",
            "26.25% Complete!\n",
            "Model Creation started!\n",
            "Model has been created!!\n",
            "26.88% Complete!\n",
            "26.88% Complete!\n",
            "26.88% Complete!\n",
            "26.88% Complete!\n",
            "Model Creation started!\n",
            "Model has been created!!\n",
            "27.5% Complete!\n",
            "27.5% Complete!\n",
            "27.5% Complete!\n",
            "27.5% Complete!\n",
            "Model Creation started!\n",
            "Model has been created!!\n",
            "28.12% Complete!\n",
            "28.12% Complete!\n",
            "28.12% Complete!\n",
            "28.12% Complete!\n",
            "Model Creation started!\n",
            "Model has been created!!\n",
            "28.75% Complete!\n",
            "28.75% Complete!\n",
            "28.75% Complete!\n",
            "28.75% Complete!\n",
            "Model Creation started!\n",
            "Model has been created!!\n",
            "29.38% Complete!\n",
            "29.38% Complete!\n",
            "29.38% Complete!\n",
            "29.38% Complete!\n",
            "Model Creation started!\n",
            "Model has been created!!\n",
            "30.0% Complete!\n",
            "30.0% Complete!\n",
            "30.0% Complete!\n",
            "30.0% Complete!\n",
            "Model Creation started!\n",
            "Model has been created!!\n",
            "30.62% Complete!\n",
            "30.62% Complete!\n",
            "30.62% Complete!\n",
            "30.62% Complete!\n",
            "Model Creation started!\n",
            "Model has been created!!\n",
            "31.25% Complete!\n",
            "31.25% Complete!\n",
            "31.25% Complete!\n",
            "31.25% Complete!\n",
            "Model Creation started!\n",
            "Model has been created!!\n",
            "31.88% Complete!\n",
            "31.88% Complete!\n",
            "31.88% Complete!\n",
            "31.88% Complete!\n",
            "Model Creation started!\n",
            "Model has been created!!\n",
            "32.5% Complete!\n",
            "32.5% Complete!\n",
            "32.5% Complete!\n",
            "32.5% Complete!\n",
            "Model Creation started!\n",
            "Model has been created!!\n",
            "33.12% Complete!\n",
            "33.12% Complete!\n",
            "33.12% Complete!\n",
            "33.12% Complete!\n",
            "Model Creation started!\n",
            "Model has been created!!\n",
            "33.75% Complete!\n",
            "33.75% Complete!\n",
            "33.75% Complete!\n",
            "33.75% Complete!\n",
            "Model Creation started!\n",
            "Model has been created!!\n",
            "34.38% Complete!\n",
            "34.38% Complete!\n",
            "34.38% Complete!\n",
            "34.38% Complete!\n",
            "Model Creation started!\n",
            "Model has been created!!\n",
            "35.0% Complete!\n",
            "35.0% Complete!\n",
            "35.0% Complete!\n",
            "35.0% Complete!\n",
            "Model Creation started!\n",
            "Model has been created!!\n",
            "35.62% Complete!\n",
            "35.62% Complete!\n",
            "35.62% Complete!\n",
            "35.62% Complete!\n",
            "Model Creation started!\n",
            "Model has been created!!\n",
            "36.25% Complete!\n",
            "36.25% Complete!\n",
            "36.25% Complete!\n",
            "36.25% Complete!\n",
            "Model Creation started!\n",
            "Model has been created!!\n",
            "36.88% Complete!\n",
            "36.88% Complete!\n",
            "36.88% Complete!\n",
            "36.88% Complete!\n",
            "Model Creation started!\n",
            "Model has been created!!\n",
            "37.5% Complete!\n",
            "37.5% Complete!\n",
            "37.5% Complete!\n",
            "37.5% Complete!\n",
            "Model Creation started!\n",
            "Model has been created!!\n",
            "38.12% Complete!\n",
            "38.12% Complete!\n",
            "38.12% Complete!\n",
            "38.12% Complete!\n",
            "Model Creation started!\n",
            "Model has been created!!\n",
            "38.75% Complete!\n",
            "38.75% Complete!\n",
            "38.75% Complete!\n",
            "38.75% Complete!\n",
            "Model Creation started!\n",
            "Model has been created!!\n",
            "39.38% Complete!\n",
            "39.38% Complete!\n",
            "39.38% Complete!\n",
            "39.38% Complete!\n",
            "Model Creation started!\n",
            "Model has been created!!\n",
            "40.0% Complete!\n",
            "40.0% Complete!\n",
            "40.0% Complete!\n",
            "40.0% Complete!\n",
            "Model Creation started!\n",
            "Model has been created!!\n",
            "40.62% Complete!\n",
            "40.62% Complete!\n",
            "40.62% Complete!\n",
            "40.62% Complete!\n",
            "Model Creation started!\n",
            "Model has been created!!\n",
            "41.25% Complete!\n",
            "41.25% Complete!\n",
            "41.25% Complete!\n",
            "41.25% Complete!\n",
            "Model Creation started!\n",
            "Model has been created!!\n",
            "41.88% Complete!\n",
            "41.88% Complete!\n",
            "41.88% Complete!\n",
            "41.88% Complete!\n",
            "Model Creation started!\n",
            "Model has been created!!\n",
            "42.5% Complete!\n",
            "42.5% Complete!\n",
            "42.5% Complete!\n",
            "42.5% Complete!\n",
            "Model Creation started!\n",
            "Model has been created!!\n",
            "43.12% Complete!\n",
            "43.12% Complete!\n",
            "43.12% Complete!\n",
            "43.12% Complete!\n",
            "Model Creation started!\n",
            "Model has been created!!\n",
            "43.75% Complete!\n",
            "43.75% Complete!\n",
            "43.75% Complete!\n",
            "43.75% Complete!\n",
            "Model Creation started!\n",
            "Model has been created!!\n",
            "44.38% Complete!\n",
            "44.38% Complete!\n",
            "44.38% Complete!\n",
            "44.38% Complete!\n",
            "Model Creation started!\n",
            "Model has been created!!\n",
            "45.0% Complete!\n",
            "45.0% Complete!\n",
            "45.0% Complete!\n",
            "45.0% Complete!\n",
            "Model Creation started!\n",
            "Model has been created!!\n",
            "45.62% Complete!\n",
            "45.62% Complete!\n",
            "45.62% Complete!\n",
            "45.62% Complete!\n",
            "Model Creation started!\n",
            "Model has been created!!\n",
            "46.25% Complete!\n",
            "46.25% Complete!\n",
            "46.25% Complete!\n",
            "46.25% Complete!\n",
            "Model Creation started!\n",
            "Model has been created!!\n",
            "46.88% Complete!\n",
            "46.88% Complete!\n",
            "46.88% Complete!\n",
            "46.88% Complete!\n",
            "Model Creation started!\n",
            "Model has been created!!\n",
            "47.5% Complete!\n",
            "47.5% Complete!\n",
            "47.5% Complete!\n",
            "47.5% Complete!\n",
            "Model Creation started!\n",
            "Model has been created!!\n",
            "48.12% Complete!\n",
            "48.12% Complete!\n",
            "48.12% Complete!\n",
            "48.12% Complete!\n",
            "Model Creation started!\n",
            "Model has been created!!\n",
            "48.75% Complete!\n",
            "48.75% Complete!\n",
            "48.75% Complete!\n",
            "48.75% Complete!\n",
            "Model Creation started!\n",
            "Model has been created!!\n",
            "49.38% Complete!\n",
            "49.38% Complete!\n",
            "49.38% Complete!\n",
            "49.38% Complete!\n",
            "Model Creation started!\n",
            "Model has been created!!\n",
            "50.0% Complete!\n",
            "50.0% Complete!\n",
            "50.0% Complete!\n",
            "50.0% Complete!\n"
          ],
          "name": "stdout"
        }
      ]
    },
    {
      "cell_type": "code",
      "metadata": {
        "id": "Kec65sK3fOCg",
        "colab": {
          "base_uri": "https://localhost:8080/",
          "height": 163
        },
        "outputId": "8c6232fb-66e8-406a-b12c-01aa7a4698f8"
      },
      "source": [
        "eval_df.to_csv('/content/drive/My Drive/word2vec_eval.csv', index = False)"
      ],
      "execution_count": null,
      "outputs": [
        {
          "output_type": "error",
          "ename": "NameError",
          "evalue": "ignored",
          "traceback": [
            "\u001b[0;31m---------------------------------------------------------------------------\u001b[0m",
            "\u001b[0;31mNameError\u001b[0m                                 Traceback (most recent call last)",
            "\u001b[0;32m<ipython-input-1-f1d445ed39d0>\u001b[0m in \u001b[0;36m<module>\u001b[0;34m()\u001b[0m\n\u001b[0;32m----> 1\u001b[0;31m \u001b[0meval_df\u001b[0m\u001b[0;34m.\u001b[0m\u001b[0mto_csv\u001b[0m\u001b[0;34m(\u001b[0m\u001b[0;34m'/content/drive/My Drive/word2vec_eval.csv'\u001b[0m\u001b[0;34m,\u001b[0m \u001b[0mindex\u001b[0m \u001b[0;34m=\u001b[0m \u001b[0;32mFalse\u001b[0m\u001b[0;34m)\u001b[0m\u001b[0;34m\u001b[0m\u001b[0;34m\u001b[0m\u001b[0m\n\u001b[0m",
            "\u001b[0;31mNameError\u001b[0m: name 'eval_df' is not defined"
          ]
        }
      ]
    },
    {
      "cell_type": "markdown",
      "metadata": {
        "id": "9l6rI35k4C9U"
      },
      "source": [
        "# Converting the reviews into word vectors"
      ]
    },
    {
      "cell_type": "code",
      "metadata": {
        "id": "35fZ9inMJprA"
      },
      "source": [
        "glove = 0"
      ],
      "execution_count": null,
      "outputs": []
    },
    {
      "cell_type": "code",
      "metadata": {
        "id": "nPAMfcwH0vO5"
      },
      "source": [
        "df['review'] = df['review'].apply(lambda x: remove_s_words(x)) \n",
        "df['review'] = df['review'].apply(lambda x: ' '.join([i for i in word_tokenize(x)]))\n",
        "if glove==0:\n",
        "  df['token_vectors'] = df['review'].apply(lambda x: [w2vec[i] for i in word_tokenize(x) if i in w2vec.keys()])\n",
        "else:\n",
        "  w2indx = dict(zip(embedding_index.keys(), [i for i in range(1,len(list(embedding_index.keys())))]))\n",
        "  w2vec = embedding_index\n",
        "  df['token_vectors'] = df['review'].apply(lambda x: [w2vec[i] for i in word_tokenize(x) if i in w2vec.keys()])"
      ],
      "execution_count": null,
      "outputs": []
    },
    {
      "cell_type": "markdown",
      "metadata": {
        "id": "hcDn-XT9KDb0"
      },
      "source": [
        "## Skip"
      ]
    },
    {
      "cell_type": "markdown",
      "metadata": {
        "id": "aWTfRxZ2a2Me"
      },
      "source": [
        "### Setting up word frequency"
      ]
    },
    {
      "cell_type": "code",
      "metadata": {
        "id": "GLd3Tqd-a6N7"
      },
      "source": [
        "import itertools\n",
        "import collections\n",
        "import seaborn as sns\n",
        "sns.set(font_scale=1.5)\n",
        "sns.set_style(\"whitegrid\")\n",
        "tokens = word_tokenize(\" \".join(df.iloc[:,0]))\n",
        "# all_words_no_urls = list(itertools.chain(*words_in_tweet))\n",
        "tokens_freq = collections.Counter(tokens)"
      ],
      "execution_count": null,
      "outputs": []
    },
    {
      "cell_type": "markdown",
      "metadata": {
        "id": "fQAZqF4gmsSj"
      },
      "source": [
        "##### List of tuples to data frame"
      ]
    },
    {
      "cell_type": "code",
      "metadata": {
        "id": "GxH141D4mIG-"
      },
      "source": [
        "tokens_df = pd.DataFrame(tokens_freq.most_common(),\n",
        "                             columns=['words', 'count'])"
      ],
      "execution_count": null,
      "outputs": []
    },
    {
      "cell_type": "code",
      "metadata": {
        "id": "RsL213WHqkCT",
        "colab": {
          "base_uri": "https://localhost:8080/"
        },
        "outputId": "35419247-da50-4722-c15f-e5b3d45a8d33"
      },
      "source": [
        "len(tokens_df[tokens_df['count']>2])"
      ],
      "execution_count": null,
      "outputs": [
        {
          "output_type": "execute_result",
          "data": {
            "text/plain": [
              "50171"
            ]
          },
          "metadata": {
            "tags": []
          },
          "execution_count": 26
        }
      ]
    },
    {
      "cell_type": "code",
      "metadata": {
        "id": "3yhqA2nt0I1A"
      },
      "source": [
        "vl = len(tokens_df[tokens_df['count']>2])"
      ],
      "execution_count": null,
      "outputs": []
    },
    {
      "cell_type": "code",
      "metadata": {
        "id": "jlRmyplmnEcr"
      },
      "source": [
        "# import matplotlib.pyplot as plt\n",
        "# fig, ax = plt.subplots(figsize=(250, 250))\n",
        "# # Plot horizontal bar graph\n",
        "# tokens_df.sort_values(by='count').plot.barh(x='words',\n",
        "#                       y='count',\n",
        "#                       ax=ax,\n",
        "#                       color=\"purple\")\n",
        "\n",
        "# ax.set_title(\"Words Frequency\")\n",
        "# plt.show()"
      ],
      "execution_count": null,
      "outputs": []
    },
    {
      "cell_type": "markdown",
      "metadata": {
        "id": "QzAqXaatKMug"
      },
      "source": [
        "## Top n thousand words"
      ]
    },
    {
      "cell_type": "markdown",
      "metadata": {
        "id": "u5QJEDCs4XDi"
      },
      "source": [
        "### Setting the embedding weights of top 5000 words with word2vec "
      ]
    },
    {
      "cell_type": "code",
      "metadata": {
        "id": "CfcJF6S8Kgx4"
      },
      "source": [
        "glove_flag = 0"
      ],
      "execution_count": null,
      "outputs": []
    },
    {
      "cell_type": "code",
      "metadata": {
        "id": "cbyC-xAl4zYb"
      },
      "source": [
        "if glove_flag==1:\n",
        "  vector_size = len(w2vec['movie'])"
      ],
      "execution_count": null,
      "outputs": []
    },
    {
      "cell_type": "code",
      "metadata": {
        "id": "7jIyNPGl4lj6"
      },
      "source": [
        "embed_length = vl+1\n",
        "vocab_size = embed_length \n",
        "n_symbols = len(corpus) + 1  \n",
        "oov_tok = '<OOV>'"
      ],
      "execution_count": null,
      "outputs": []
    },
    {
      "cell_type": "code",
      "metadata": {
        "id": "zgk9u_Ih5SGc"
      },
      "source": [
        "tokenizer = Tokenizer(num_words = embed_length, oov_token=oov_tok)\n",
        "tokenizer.fit_on_texts(df['review'])\n",
        "word_index = tokenizer.word_index"
      ],
      "execution_count": null,
      "outputs": []
    },
    {
      "cell_type": "markdown",
      "metadata": {
        "id": "geYgqfs6_nsm"
      },
      "source": [
        "#### Creating a dictionary with top 5000 words only"
      ]
    },
    {
      "cell_type": "code",
      "metadata": {
        "id": "dK-ncL3v-b2h"
      },
      "source": [
        "top_word_index = {i:j for i,j in word_index.items() if j<=embed_length}"
      ],
      "execution_count": null,
      "outputs": []
    },
    {
      "cell_type": "code",
      "metadata": {
        "id": "zs0L_JIH_NdU"
      },
      "source": [
        "index_dict = w2indx\n",
        "word_vectors = w2vec\n",
        "embedding_weights = np.zeros((embed_length, vector_size))\n",
        "word_index['<OOV>'] = 1\n",
        "\n",
        "zero_embed = []\n",
        "\n",
        "for word, index in top_word_index.items():\n",
        "  if word not in word_vectors.keys():\n",
        "    embedding_weights[index-1, :] = np.zeros(vector_size).shape\n",
        "    zero_embed.extend([word])\n",
        "  else:\n",
        "    embedding_weights[index-1, :] = word_vectors[word]"
      ],
      "execution_count": null,
      "outputs": []
    },
    {
      "cell_type": "markdown",
      "metadata": {
        "id": "PLkIlQ3Cy1mL"
      },
      "source": [
        "### label encoding"
      ]
    },
    {
      "cell_type": "code",
      "metadata": {
        "id": "QHXp4Jtuy0sU"
      },
      "source": [
        "lb_maker = LabelEncoder()\n",
        "df['sentiment']= lb_maker.fit_transform(df['sentiment'])"
      ],
      "execution_count": null,
      "outputs": []
    },
    {
      "cell_type": "markdown",
      "metadata": {
        "id": "_A5eiYLRBNKs"
      },
      "source": [
        "### Fitting on texts"
      ]
    },
    {
      "cell_type": "code",
      "metadata": {
        "id": "5JF3CXDQBmzY"
      },
      "source": [
        "trunc_type = 'post'\n",
        "padding_type = 'post'"
      ],
      "execution_count": null,
      "outputs": []
    },
    {
      "cell_type": "markdown",
      "metadata": {
        "id": "ew1Vh4pdGKFe"
      },
      "source": [
        "#### Checking if each word is within 5000 limit or not"
      ]
    },
    {
      "cell_type": "code",
      "metadata": {
        "id": "h2Ccem9k3EIN"
      },
      "source": [
        "tokenizer.word_index = {e:i for e,i in tokenizer.word_index.items() if i <= vocab_size} # <= because tokenizer is 1 indexed\n",
        "tokenizer.word_index[tokenizer.oov_token] =  1"
      ],
      "execution_count": null,
      "outputs": []
    },
    {
      "cell_type": "code",
      "metadata": {
        "id": "xhZfSzg-luh2"
      },
      "source": [
        "all_sequences = tokenizer.texts_to_sequences(df['review'].values)\n",
        "all_padded = pad_sequences(all_sequences, maxlen=vector_size, padding=padding_type, truncating=trunc_type)\n",
        "labels = df['sentiment']\n",
        "all_label_seq = np.array(labels)\n"
      ],
      "execution_count": null,
      "outputs": []
    },
    {
      "cell_type": "markdown",
      "metadata": {
        "id": "PZxoDeg2G2a8"
      },
      "source": [
        "### Train test split \"A\" with fixed vocab length"
      ]
    },
    {
      "cell_type": "code",
      "metadata": {
        "id": "yqbJi04UB4f2"
      },
      "source": [
        "import sklearn.model_selection as model_selection\n",
        "X_train, X_test, y_train, y_test = model_selection.train_test_split(all_padded, all_label_seq, train_size=0.65,test_size=0.35, random_state=101)\n"
      ],
      "execution_count": null,
      "outputs": []
    },
    {
      "cell_type": "markdown",
      "metadata": {
        "id": "gGWLDjdtCBop"
      },
      "source": [
        "### Train test split \"B\" with full vocab length"
      ]
    },
    {
      "cell_type": "code",
      "metadata": {
        "id": "uWAxGQrORWcj"
      },
      "source": [
        "maxlen = 1420"
      ],
      "execution_count": null,
      "outputs": []
    },
    {
      "cell_type": "code",
      "metadata": {
        "id": "_3xj__A8G1x4"
      },
      "source": [
        "X = df['token_vectors'].values\n",
        "y = df['sentiment'].values\n",
        "\n",
        "import sklearn.model_selection as model_selection\n",
        "X_train, X_test, y_train, y_test = model_selection.train_test_split(X, y, train_size=0.65,test_size=0.35, random_state=101)\n",
        "X_train = sequence.pad_sequences(X_train, maxlen=maxlen, dtype = 'float')\n",
        "X_test = sequence.pad_sequences(X_test, maxlen=maxlen, dtype='float')"
      ],
      "execution_count": null,
      "outputs": []
    },
    {
      "cell_type": "markdown",
      "metadata": {
        "id": "nwIEFZJ2z4YT"
      },
      "source": [
        "### Creating LSTM and feeding input after test-train validation split"
      ]
    },
    {
      "cell_type": "code",
      "metadata": {
        "id": "E3QICaUy0BU1",
        "colab": {
          "base_uri": "https://localhost:8080/",
          "height": 50
        },
        "outputId": "889c8d4a-574a-453a-d25d-8df20a7f4322"
      },
      "source": [
        "# lstm_model = Sequential()  # or Graph \n",
        "# lstm_model.add(Embedding(output_dim=maxlen,\n",
        "#                     input_dim=n_symbols,\n",
        "#                     mask_zero=True,\n",
        "#                     weights=[embedding_weights],\n",
        "#                     input_length=input_length))  # Adding Input Length\n",
        "# lstm_model.add(LSTM(maxlen))\n",
        "# lstm_model.add(Dropout(0.3))\n",
        "# lstm_model.add(Dense(1, activation='sigmoid'))\n",
        "\n",
        "# print('Compiling the Model...')\n",
        "# lstm_model.compile(loss='binary_crossentropy',\n",
        "#               optimizer='adam',\n",
        "#               metrics=['accuracy'])\n",
        "\n",
        "# print(\"Train...\")"
      ],
      "execution_count": null,
      "outputs": [
        {
          "output_type": "stream",
          "text": [
            "Compiling the Model...\n",
            "Train...\n"
          ],
          "name": "stdout"
        }
      ]
    },
    {
      "cell_type": "code",
      "metadata": {
        "id": "QP5kKOqjiBXe",
        "colab": {
          "base_uri": "https://localhost:8080/",
          "height": 34
        },
        "outputId": "8a747e42-277f-4e3d-d385-945e7480c620"
      },
      "source": [
        "max"
      ],
      "execution_count": null,
      "outputs": [
        {
          "output_type": "execute_result",
          "data": {
            "text/plain": [
              "1420"
            ]
          },
          "metadata": {
            "tags": []
          },
          "execution_count": 72
        }
      ]
    },
    {
      "cell_type": "code",
      "metadata": {
        "id": "AhpSmmoahvsB"
      },
      "source": [
        "max = 0\n",
        "for i in range(0,len(X)):\n",
        "  if len(X[i])>max:\n",
        "    max = len(X[i])"
      ],
      "execution_count": null,
      "outputs": []
    },
    {
      "cell_type": "markdown",
      "metadata": {
        "id": "dqfQVhMcYRIZ"
      },
      "source": [
        "Dense layer is of 100 dimension input and output is one or two"
      ]
    },
    {
      "cell_type": "code",
      "metadata": {
        "id": "6FYy4ZTapAMM"
      },
      "source": [
        "X = all_padded\n",
        "y = all_label_seq\n"
      ],
      "execution_count": null,
      "outputs": []
    },
    {
      "cell_type": "markdown",
      "metadata": {
        "id": "i1f9XdoOWTS7"
      },
      "source": [
        "### Defining K folds cross validation"
      ]
    },
    {
      "cell_type": "code",
      "metadata": {
        "id": "rQ7m1XaoV85Y"
      },
      "source": [
        "# Define per-fold score containers\n",
        "embedding_dim = vector_size\n",
        "num_epochs = 10\n",
        "f1_per_fold = []\n",
        "recall_per_fold = []\n",
        "precision_per_fold = []\n",
        "acc_per_fold = []\n",
        "# Define the K-fold Cross Validator\n",
        "num_folds = 10\n",
        "kfold = KFold(n_splits=num_folds, shuffle=True)\n",
        "# Merge inputs and targets\n",
        "inputs = np.concatenate((X_train, X_test), axis=0)\n",
        "targets = np.concatenate((y_train, y_test), axis=0)\n"
      ],
      "execution_count": null,
      "outputs": []
    },
    {
      "cell_type": "code",
      "metadata": {
        "id": "aC3pRu1uW42o",
        "colab": {
          "base_uri": "https://localhost:8080/"
        },
        "outputId": "187ca70d-1dc4-4ebf-dce5-7e77dc4cf99f"
      },
      "source": [
        "fold_no = 1\n",
        "for train, test in kfold.split(inputs, targets):\n",
        "  lstm_model = Sequential()  # or Graph \n",
        "  lstm_model.add(Embedding(vocab_size, embedding_dim,weights= [embedding_weights]))  # Adding Input Length\n",
        "  lstm_model.add(LSTM(embedding_dim))\n",
        "  lstm_model.add(Dropout(0.3))\n",
        "  lstm_model.add(Dense(1, activation='sigmoid'))\n",
        "\n",
        "  print('Compiling the Model...')\n",
        "  lstm_model.compile(loss='binary_crossentropy',\n",
        "                optimizer='adam',\n",
        "                metrics=['accuracy'], run_eagerly = True)\n",
        "\n",
        "  print(\"Train...\")\n",
        "  # Generate a print\n",
        "  print('------------------------------------------------------------------------')\n",
        "  print(f'Training for fold {fold_no} ...')\n",
        "\n",
        "  # Fit data to model\n",
        "  history = lstm_model.fit(inputs[train], targets[train], epochs=num_epochs, verbose=2, batch_size = 50)\n",
        "  y_pred = lstm_model.predict_classes(inputs[test], verbose=0)\n",
        "  y_probs = lstm_model.predict(inputs[test], verbose=0)\n",
        "  y_probs = y_probs[:, 0]\n",
        "  y_pred = y_pred[:, 0]\n",
        "  #####################################################################################\n",
        "  ##Evaluation Metrics\n",
        "  y_test = targets[test]\n",
        "  # accuracy: (tp + tn) / (p + n)\n",
        "  accuracy = accuracy_score(y_test, y_pred)\n",
        "  print('Accuracy: %f' % accuracy)\n",
        "  # precision tp / (tp + fp)\n",
        "  precision = precision_score(y_test, y_pred)\n",
        "  print('Precision: %f' % precision)\n",
        "  # recall: tp / (tp + fn)\n",
        "  recall = recall_score(y_test, y_pred)\n",
        "  print('Recall: %f' % recall)\n",
        "  # f1: 2 tp / (2 tp + fp + fn)\n",
        "  f1 = f1_score(y_test, y_pred)\n",
        "  print('F1 score: %f' % f1)\n",
        "\n",
        "  f1_per_fold.append(round(f1*100,2))\n",
        "  recall_per_fold.append(round(recall*100,2))\n",
        "  precision_per_fold.append(round(precision*100,2))\n",
        "  acc_per_fold.append(round(accuracy*100,2))\n",
        "  # Increase fold number\n",
        "  fold_no = fold_no + 1"
      ],
      "execution_count": null,
      "outputs": [
        {
          "output_type": "stream",
          "text": [
            "Compiling the Model...\n",
            "Train...\n",
            "------------------------------------------------------------------------\n",
            "Training for fold 1 ...\n",
            "Epoch 1/10\n",
            "900/900 - 2933s - loss: 0.4067 - accuracy: 0.8111\n",
            "Epoch 2/10\n",
            "900/900 - 2933s - loss: 0.1810 - accuracy: 0.9348\n",
            "Epoch 3/10\n",
            "900/900 - 2952s - loss: 0.0871 - accuracy: 0.9719\n",
            "Epoch 4/10\n",
            "900/900 - 2955s - loss: 0.0393 - accuracy: 0.9888\n",
            "Epoch 5/10\n",
            "900/900 - 2939s - loss: 0.0213 - accuracy: 0.9942\n",
            "Epoch 6/10\n",
            "900/900 - 2933s - loss: 0.0168 - accuracy: 0.9956\n",
            "Epoch 7/10\n",
            "900/900 - 2958s - loss: 0.0113 - accuracy: 0.9967\n",
            "Epoch 8/10\n",
            "900/900 - 2970s - loss: 0.0102 - accuracy: 0.9967\n",
            "Epoch 9/10\n",
            "900/900 - 2975s - loss: 0.0065 - accuracy: 0.9984\n",
            "Epoch 10/10\n",
            "900/900 - 2988s - loss: 0.0044 - accuracy: 0.9987\n",
            "WARNING:tensorflow:From <ipython-input-62-118c29920644>:21: Sequential.predict_classes (from tensorflow.python.keras.engine.sequential) is deprecated and will be removed after 2021-01-01.\n",
            "Instructions for updating:\n",
            "Please use instead:* `np.argmax(model.predict(x), axis=-1)`,   if your model does multi-class classification   (e.g. if it uses a `softmax` last-layer activation).* `(model.predict(x) > 0.5).astype(\"int32\")`,   if your model does binary classification   (e.g. if it uses a `sigmoid` last-layer activation).\n",
            "Accuracy: 0.877800\n",
            "Precision: 0.847794\n",
            "Recall: 0.917442\n",
            "F1 score: 0.881244\n",
            "Compiling the Model...\n",
            "Train...\n",
            "------------------------------------------------------------------------\n",
            "Training for fold 2 ...\n",
            "Epoch 1/10\n",
            "900/900 - 2933s - loss: 0.4262 - accuracy: 0.7995\n",
            "Epoch 2/10\n"
          ],
          "name": "stdout"
        }
      ]
    },
    {
      "cell_type": "code",
      "metadata": {
        "id": "kslSbvBpaOAe",
        "colab": {
          "base_uri": "https://localhost:8080/",
          "height": 163
        },
        "outputId": "a32a6f43-2618-44f1-8f83-d1b3b9268d7a"
      },
      "source": [
        "np.mean(f1_per_fold)"
      ],
      "execution_count": null,
      "outputs": [
        {
          "output_type": "error",
          "ename": "NameError",
          "evalue": "ignored",
          "traceback": [
            "\u001b[0;31m---------------------------------------------------------------------------\u001b[0m",
            "\u001b[0;31mNameError\u001b[0m                                 Traceback (most recent call last)",
            "\u001b[0;32m<ipython-input-28-08d31bd217e8>\u001b[0m in \u001b[0;36m<module>\u001b[0;34m()\u001b[0m\n\u001b[0;32m----> 1\u001b[0;31m \u001b[0mnp\u001b[0m\u001b[0;34m.\u001b[0m\u001b[0mmean\u001b[0m\u001b[0;34m(\u001b[0m\u001b[0mf1_per_fold\u001b[0m\u001b[0;34m)\u001b[0m\u001b[0;34m\u001b[0m\u001b[0;34m\u001b[0m\u001b[0m\n\u001b[0m",
            "\u001b[0;31mNameError\u001b[0m: name 'f1_per_fold' is not defined"
          ]
        }
      ]
    },
    {
      "cell_type": "markdown",
      "metadata": {
        "id": "ZsGrG3EmcI3T"
      },
      "source": [
        "### Model save"
      ]
    },
    {
      "cell_type": "code",
      "metadata": {
        "id": "oKR3hewwbaSi",
        "colab": {
          "base_uri": "https://localhost:8080/",
          "height": 34
        },
        "outputId": "d62963d6-1bf8-4e7f-e53c-1bd13dbfff5f"
      },
      "source": [
        "model_name = 'model_2.json'\n",
        "model_weights = 'model_2_wt.h5'\n",
        "model_json = lstm_model.to_json()\n",
        "with open(model_name, \"w\") as json_file:\n",
        "    json_file.write(model_json)\n",
        "# serialize weights to HDF5\n",
        "lstm_model.save_weights(model_weights)\n",
        "print(\"Saved model to disk\")"
      ],
      "execution_count": null,
      "outputs": [
        {
          "output_type": "stream",
          "text": [
            "Saved model to disk\n"
          ],
          "name": "stdout"
        }
      ]
    },
    {
      "cell_type": "markdown",
      "metadata": {
        "id": "XW4fVDWUcLOL"
      },
      "source": [
        "### Model Load"
      ]
    },
    {
      "cell_type": "code",
      "metadata": {
        "id": "-gHHrBbocNMZ",
        "colab": {
          "base_uri": "https://localhost:8080/",
          "height": 34
        },
        "outputId": "61935925-e7b2-438e-c190-6d4416fbbd1a"
      },
      "source": [
        "model_name = 'model_1.json'\n",
        "model_weights = 'model_1_wt.h5'\n",
        "\n",
        "# load json and create model\n",
        "json_file = open(model_name, 'r')\n",
        "loaded_model_json = json_file.read()\n",
        "json_file.close()\n",
        "loaded_model = model_from_json(loaded_model_json)\n",
        "# load weights into new model\n",
        "loaded_model.load_weights(model_weights)\n",
        "print(\"Loaded model from disk\")"
      ],
      "execution_count": null,
      "outputs": [
        {
          "output_type": "stream",
          "text": [
            "Loaded model from disk\n"
          ],
          "name": "stdout"
        }
      ]
    },
    {
      "cell_type": "markdown",
      "metadata": {
        "id": "oL_-aJhXbXg2"
      },
      "source": [
        "### Model without K fold"
      ]
    },
    {
      "cell_type": "code",
      "metadata": {
        "id": "u9A8VFKNbWvu"
      },
      "source": [
        ""
      ],
      "execution_count": null,
      "outputs": []
    },
    {
      "cell_type": "code",
      "metadata": {
        "id": "6c8Oq9n4pKR8",
        "colab": {
          "base_uri": "https://localhost:8080/",
          "height": 51
        },
        "outputId": "04753ae7-f490-4bcd-daf2-49b42d422e8f"
      },
      "source": [
        "lstm_model = Sequential()  # or Graph \n",
        "lstm_model.add(Embedding(vocab_size, embedding_dim,weights= [embedding_weights]))  # Adding Input Length\n",
        "lstm_model.add(LSTM(embedding_dim))\n",
        "lstm_model.add(Dropout(0.3))\n",
        "lstm_model.add(Dense(1, activation='sigmoid'))\n",
        "\n",
        "print('Compiling the Model...')\n",
        "lstm_model.compile(loss='binary_crossentropy',\n",
        "              optimizer='adam',\n",
        "              metrics=['accuracy'], run_eagerly = True)\n",
        "\n",
        "print(\"Train...\")\n"
      ],
      "execution_count": null,
      "outputs": [
        {
          "output_type": "stream",
          "text": [
            "Compiling the Model...\n",
            "Train...\n"
          ],
          "name": "stdout"
        }
      ]
    },
    {
      "cell_type": "code",
      "metadata": {
        "id": "jELDArFQpwHi",
        "colab": {
          "base_uri": "https://localhost:8080/",
          "height": 357
        },
        "outputId": "4127d11b-160f-47b9-c0d3-140791875a6c"
      },
      "source": [
        "history = lstm_model.fit(X_train, y_train, epochs=num_epochs, verbose=2, batch_size = 50)"
      ],
      "execution_count": null,
      "outputs": [
        {
          "output_type": "stream",
          "text": [
            "Epoch 1/10\n",
            "7/7 - 3s - loss: 0.7228 - accuracy: 0.5015\n",
            "Epoch 2/10\n",
            "7/7 - 3s - loss: 0.7164 - accuracy: 0.5231\n",
            "Epoch 3/10\n",
            "7/7 - 3s - loss: 0.7143 - accuracy: 0.5200\n",
            "Epoch 4/10\n",
            "7/7 - 3s - loss: 0.7100 - accuracy: 0.5138\n",
            "Epoch 5/10\n",
            "7/7 - 3s - loss: 0.7080 - accuracy: 0.4954\n",
            "Epoch 6/10\n",
            "7/7 - 3s - loss: 0.6970 - accuracy: 0.5415\n",
            "Epoch 7/10\n",
            "7/7 - 3s - loss: 0.7010 - accuracy: 0.5446\n",
            "Epoch 8/10\n",
            "7/7 - 3s - loss: 0.6694 - accuracy: 0.5846\n",
            "Epoch 9/10\n",
            "7/7 - 3s - loss: 0.6669 - accuracy: 0.5908\n",
            "Epoch 10/10\n",
            "7/7 - 3s - loss: 0.6425 - accuracy: 0.6431\n"
          ],
          "name": "stdout"
        }
      ]
    },
    {
      "cell_type": "markdown",
      "metadata": {
        "id": "0aI60gnMQ7Pl"
      },
      "source": [
        "### Model testing "
      ]
    },
    {
      "cell_type": "code",
      "metadata": {
        "id": "pUvBUuMzQ--P"
      },
      "source": [
        "score = lstm_model.evaluate(X_test, y_test, verbose=0)"
      ],
      "execution_count": null,
      "outputs": []
    },
    {
      "cell_type": "code",
      "metadata": {
        "id": "9SNZpoTiRFHk"
      },
      "source": [
        "y_pred = lstm_model.predict_classes(X_test, verbose=0)\n",
        "y_probs = lstm_model.predict(X_test, verbose=0)\n",
        "y_probs = y_probs[:, 0]\n",
        "y_pred = y_pred[:, 0]"
      ],
      "execution_count": null,
      "outputs": []
    },
    {
      "cell_type": "code",
      "metadata": {
        "id": "oqGEWR-vSOf6",
        "colab": {
          "base_uri": "https://localhost:8080/",
          "height": 85
        },
        "outputId": "24263c8a-130b-4c82-9f5e-007482c3a748"
      },
      "source": [
        "# accuracy: (tp + tn) / (p + n)\n",
        "accuracy = accuracy_score(y_test, y_pred)\n",
        "print('Accuracy: %f' % accuracy)\n",
        "# precision tp / (tp + fp)\n",
        "precision = precision_score(y_test, y_pred)\n",
        "print('Precision: %f' % precision)\n",
        "# recall: tp / (tp + fn)\n",
        "recall = recall_score(y_test, y_pred)\n",
        "print('Recall: %f' % recall)\n",
        "# f1: 2 tp / (2 tp + fp + fn)\n",
        "f1 = f1_score(y_test, y_pred)\n",
        "print('F1 score: %f' % f1)"
      ],
      "execution_count": null,
      "outputs": [
        {
          "output_type": "stream",
          "text": [
            "Accuracy: 0.617143\n",
            "Precision: 0.592233\n",
            "Recall: 0.709302\n",
            "F1 score: 0.645503\n"
          ],
          "name": "stdout"
        }
      ]
    },
    {
      "cell_type": "code",
      "metadata": {
        "id": "mty1uA3aoVAj",
        "colab": {
          "base_uri": "https://localhost:8080/",
          "height": 170
        },
        "outputId": "a75b769c-b687-4207-c3e6-fe291bde7bbb"
      },
      "source": [
        "y_pred"
      ],
      "execution_count": null,
      "outputs": [
        {
          "output_type": "execute_result",
          "data": {
            "text/plain": [
              "array([1, 1, 0, 1, 1, 0, 1, 1, 0, 1, 0, 1, 1, 1, 1, 0, 1, 0, 0, 1, 1, 0,\n",
              "       0, 1, 1, 1, 1, 1, 0, 0, 1, 1, 0, 1, 0, 0, 1, 1, 1, 1, 1, 1, 1, 1,\n",
              "       0, 1, 1, 1, 0, 1, 0, 1, 0, 1, 1, 0, 0, 1, 1, 0, 0, 1, 1, 1, 1, 1,\n",
              "       0, 1, 0, 0, 1, 1, 1, 1, 1, 0, 0, 0, 1, 1, 0, 0, 1, 1, 1, 1, 1, 1,\n",
              "       1, 0, 1, 0, 1, 0, 1, 1, 1, 0, 1, 1, 0, 0, 0, 0, 0, 0, 1, 1, 0, 1,\n",
              "       0, 0, 0, 0, 0, 1, 1, 0, 0, 0, 0, 1, 0, 0, 0, 1, 1, 1, 0, 1, 0, 1,\n",
              "       1, 1, 1, 1, 0, 0, 0, 0, 0, 1, 0, 1, 0, 0, 1, 0, 0, 1, 1, 0, 1, 1,\n",
              "       1, 1, 0, 1, 1, 1, 1, 1, 1, 1, 0, 1, 0, 1, 1, 0, 1, 0, 1, 1, 0],\n",
              "      dtype=int32)"
            ]
          },
          "metadata": {
            "tags": []
          },
          "execution_count": 238
        }
      ]
    },
    {
      "cell_type": "markdown",
      "metadata": {
        "id": "TiQx8bN-GiTK"
      },
      "source": [
        "#### Checking the content of word embeddings"
      ]
    },
    {
      "cell_type": "code",
      "metadata": {
        "id": "GKeUJR4yDLz7"
      },
      "source": [
        "# max = 0\n",
        "# min = 1\n",
        "# flag = 0\n",
        "# for i in range(0,500):\n",
        "#   if 4999 in X[i]:\n",
        "#     flag = 1\n",
        "#   if X[i].max()>max:\n",
        "#     max = X[i].max()\n",
        "#   if X[i].min()<min:\n",
        "#     min = X[i].min()  "
      ],
      "execution_count": null,
      "outputs": []
    },
    {
      "cell_type": "code",
      "metadata": {
        "id": "8wAVY-AlXr80"
      },
      "source": [
        "# lstm_model = Sequential()  # or Graph \n",
        "# lstm_model.add(Embedding(output_dim=maxlen,\n",
        "#                     input_dim=n_symbols,\n",
        "#                     mask_zero=True,\n",
        "#                     weights=[embedding_weights]))  # Adding Input Length\n",
        "# lstm_model.add(LSTM(maxlen, input_shape = (None, 50,50,50), return_sequences=True))\n",
        "# lstm_model.add(Dropout(0.3))\n",
        "# lstm_model.add(Dense(1, activation='sigmoid'))\n",
        "\n",
        "# print('Compiling the Model...')\n",
        "# lstm_model.compile(loss='binary_crossentropy',\n",
        "#               optimizer='adam',\n",
        "#               metrics=['accuracy'], run_eagerly = True)\n",
        "\n",
        "# print(\"Train...\")"
      ],
      "execution_count": null,
      "outputs": []
    },
    {
      "cell_type": "code",
      "metadata": {
        "id": "A-FLcOSIbEQ3",
        "colab": {
          "base_uri": "https://localhost:8080/",
          "height": 34
        },
        "outputId": "ed6e4f37-cc06-4631-9c99-9636463180bb"
      },
      "source": [
        "keras.utils.plot_model(model, show_shapes=True)"
      ],
      "execution_count": null,
      "outputs": [
        {
          "output_type": "execute_result",
          "data": {
            "text/plain": [
              "(32500, 50, 50)"
            ]
          },
          "metadata": {
            "tags": []
          },
          "execution_count": 52
        }
      ]
    },
    {
      "cell_type": "code",
      "metadata": {
        "id": "tQToz_imgqGi",
        "colab": {
          "base_uri": "https://localhost:8080/",
          "height": 533
        },
        "outputId": "a204c152-7fa6-41f1-8a44-e68e866a0003"
      },
      "source": [
        "keras.utils.plot_model(lstm_model, show_shapes=True)"
      ],
      "execution_count": null,
      "outputs": [
        {
          "output_type": "execute_result",
          "data": {
            "image/png": "[encoded data removed]",
            "text/plain": [
              "<IPython.core.display.Image object>"
            ]
          },
          "metadata": {
            "tags": []
          },
          "execution_count": 67
        }
      ]
    },
    {
      "cell_type": "code",
      "metadata": {
        "id": "xk_qFC-kIdpF",
        "colab": {
          "base_uri": "https://localhost:8080/",
          "height": 286
        },
        "outputId": "9670a63e-ea22-45d9-fd66-32156784dc69"
      },
      "source": [
        "lstm_model.summary()"
      ],
      "execution_count": null,
      "outputs": [
        {
          "output_type": "stream",
          "text": [
            "Model: \"sequential_6\"\n",
            "_________________________________________________________________\n",
            "Layer (type)                 Output Shape              Param #   \n",
            "=================================================================\n",
            "embedding_6 (Embedding)      (None, None, 50)          10754200  \n",
            "_________________________________________________________________\n",
            "lstm_6 (LSTM)                (None, 50)                20200     \n",
            "_________________________________________________________________\n",
            "dropout_5 (Dropout)          (None, 50)                0         \n",
            "_________________________________________________________________\n",
            "dense_5 (Dense)              (None, 1)                 51        \n",
            "=================================================================\n",
            "Total params: 10,774,451\n",
            "Trainable params: 10,774,451\n",
            "Non-trainable params: 0\n",
            "_________________________________________________________________\n"
          ],
          "name": "stdout"
        }
      ]
    }
  ]
}